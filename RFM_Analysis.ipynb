{
  "nbformat": 4,
  "nbformat_minor": 0,
  "metadata": {
    "colab": {
      "name": "RFM Analysis.ipynb",
      "provenance": []
    },
    "kernelspec": {
      "name": "python3",
      "display_name": "Python 3"
    }
  },
  "cells": [
    {
      "cell_type": "markdown",
      "metadata": {
        "id": "OR7ZaEEevrMa",
        "colab_type": "text"
      },
      "source": [
        "**RFM Segmentation** is a great method to divide\n",
        "Customers into equal groups depending on three criteria:\n",
        "\n",
        "**Recency**:- How much time has elapsed since a customer’s last activity or transaction with the company?\n",
        "\n",
        "**Frequency**:- How often has a customer transacted with the company during a particular period of time?\n",
        "\n",
        "**Monetary**:- How much a customer has spent with the brand during a particular period of time?\n"
      ]
    },
    {
      "cell_type": "code",
      "metadata": {
        "id": "dD613G6brGVl",
        "colab_type": "code",
        "colab": {}
      },
      "source": [
        "# Import libraries\n",
        "import pandas as pd\n",
        "from datetime import timedelta\n",
        "import matplotlib.pyplot as plt\n",
        "#import squarify\n",
        "# Read dataset\n",
        "df = pd.read_csv('data.csv', encoding = \"ISO-8859-1\")\n",
        "# Convert InvoiceDate from object to datetime format\n",
        "df['InvoiceDate'] = pd.to_datetime(df['InvoiceDate'])\n"
      ],
      "execution_count": 0,
      "outputs": []
    },
    {
      "cell_type": "code",
      "metadata": {
        "id": "DE1UXEEKvBcu",
        "colab_type": "code",
        "outputId": "ad57d3ac-25b7-4501-a7bb-325766de7bec",
        "colab": {
          "base_uri": "https://localhost:8080/",
          "height": 68
        }
      },
      "source": [
        "print('{:,} rows; {:,} columns'\n",
        "      .format(df.shape[0], df.shape[1]))\n",
        "print('{:,} transactions don\\'t have a customer id'\n",
        "      .format(df[df.CustomerID.isnull()].shape[0]))\n",
        "print('Transactions timeframe from {} to {}'.format(df['InvoiceDate'].min(),\n",
        "                                    df['InvoiceDate'].max()))"
      ],
      "execution_count": 0,
      "outputs": [
        {
          "output_type": "stream",
          "text": [
            "125,339 rows; 8 columns\n",
            "40,874 transactions don't have a customer id\n",
            "Transactions timeframe from 2010-12-01 08:26:00 to 2011-03-20 11:00:00\n"
          ],
          "name": "stdout"
        }
      ]
    }
  ]
}