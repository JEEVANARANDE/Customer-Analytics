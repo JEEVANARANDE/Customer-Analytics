{
  "nbformat": 4,
  "nbformat_minor": 0,
  "metadata": {
    "colab": {
      "name": "RFM Analysis.ipynb",
      "provenance": []
    },
    "kernelspec": {
      "name": "python3",
      "display_name": "Python 3"
    }
  },
  "cells": [
    {
      "cell_type": "markdown",
      "metadata": {
        "id": "OR7ZaEEevrMa",
        "colab_type": "text"
      },
      "source": [
        "**RFM Segmentation** is a great method to divide\n",
        "Customers into equal groups depending on three criteria:\n",
        "\n",
        "**Recency**:- How much time has elapsed since a customer’s last activity or transaction with the company?\n",
        "\n",
        "**Frequency**:- How often has a customer transacted with the company during a particular period of time?\n",
        "\n",
        "**Monetary**:- How much a customer has spent with the brand during a particular period of time?\n"
      ]
    },
    {
      "cell_type": "code",
      "metadata": {
        "id": "dD613G6brGVl",
        "colab_type": "code",
        "outputId": "caf29dad-0964-44df-b195-7dea617460aa",
        "colab": {
          "base_uri": "https://localhost:8080/",
          "height": 105
        }
      },
      "source": [
        "# Import libraries\n",
        "import warnings\n",
        "warnings.filterwarnings(\"ignore\")\n",
        "import pandas as pd\n",
        "from datetime import timedelta\n",
        "import matplotlib.pyplot as plt\n",
        "import seaborn as sns\n",
        "color = sns.color_palette()\n",
        "!pip install squarify\n",
        "import squarify\n",
        "# Read dataset\n",
        "df = pd.read_csv('data.csv', encoding = \"ISO-8859-1\")\n",
        "# Convert InvoiceDate from object to datetime format\n",
        "df['InvoiceDate'] = pd.to_datetime(df['InvoiceDate'])\n"
      ],
      "execution_count": 1,
      "outputs": [
        {
          "output_type": "stream",
          "text": [
            "Collecting squarify\n",
            "  Downloading https://files.pythonhosted.org/packages/0b/2b/2e77c35326efec19819cd1d729540d4d235e6c2a3f37658288a363a67da5/squarify-0.4.3-py3-none-any.whl\n",
            "Installing collected packages: squarify\n",
            "Successfully installed squarify-0.4.3\n"
          ],
          "name": "stdout"
        }
      ]
    },
    {
      "cell_type": "code",
      "metadata": {
        "id": "DE1UXEEKvBcu",
        "colab_type": "code",
        "outputId": "3cee4db4-e857-4964-9b64-6ab37641a38f",
        "colab": {
          "base_uri": "https://localhost:8080/",
          "height": 799
        }
      },
      "source": [
        "print('First five rows in the dataset:-')\n",
        "print(df.head())\n",
        "print('Last five rows in the dataset:-')\n",
        "print(df.tail())\n",
        "print(df.info())\n",
        "print(df.describe())\n",
        "print('There are {:,} rows and {:,} columns in the dataset.'\n",
        "      .format(df.shape[0], df.shape[1]))\n",
        "print('-----------------------------------------------------')\n",
        "print('{:,} transactions don\\'t have a customer id'\n",
        "      .format(df[df.CustomerID.isnull()].shape[0]))\n",
        "print('-----------------------------------------------------')\n",
        "print('Transactions has been started from {} to {}'.format(df['InvoiceDate'].min(),\n",
        "                                    df['InvoiceDate'].max()))"
      ],
      "execution_count": 2,
      "outputs": [
        {
          "output_type": "stream",
          "text": [
            "First five rows in the dataset:-\n",
            "  InvoiceNo StockCode  ... CustomerID         Country\n",
            "0    536365    85123A  ...    17850.0  United Kingdom\n",
            "1    536365     71053  ...    17850.0  United Kingdom\n",
            "2    536365    84406B  ...    17850.0  United Kingdom\n",
            "3    536365    84029G  ...    17850.0  United Kingdom\n",
            "4    536365    84029E  ...    17850.0  United Kingdom\n",
            "\n",
            "[5 rows x 8 columns]\n",
            "Last five rows in the dataset:-\n",
            "       InvoiceNo StockCode  ... CustomerID  Country\n",
            "541904    581587     22613  ...    12680.0   France\n",
            "541905    581587     22899  ...    12680.0   France\n",
            "541906    581587     23254  ...    12680.0   France\n",
            "541907    581587     23255  ...    12680.0   France\n",
            "541908    581587     22138  ...    12680.0   France\n",
            "\n",
            "[5 rows x 8 columns]\n",
            "<class 'pandas.core.frame.DataFrame'>\n",
            "RangeIndex: 541909 entries, 0 to 541908\n",
            "Data columns (total 8 columns):\n",
            "InvoiceNo      541909 non-null object\n",
            "StockCode      541909 non-null object\n",
            "Description    540455 non-null object\n",
            "Quantity       541909 non-null int64\n",
            "InvoiceDate    541909 non-null datetime64[ns]\n",
            "UnitPrice      541909 non-null float64\n",
            "CustomerID     406829 non-null float64\n",
            "Country        541909 non-null object\n",
            "dtypes: datetime64[ns](1), float64(2), int64(1), object(4)\n",
            "memory usage: 33.1+ MB\n",
            "None\n",
            "            Quantity      UnitPrice     CustomerID\n",
            "count  541909.000000  541909.000000  406829.000000\n",
            "mean        9.552250       4.611114   15287.690570\n",
            "std       218.081158      96.759853    1713.600303\n",
            "min    -80995.000000  -11062.060000   12346.000000\n",
            "25%         1.000000       1.250000   13953.000000\n",
            "50%         3.000000       2.080000   15152.000000\n",
            "75%        10.000000       4.130000   16791.000000\n",
            "max     80995.000000   38970.000000   18287.000000\n",
            "There are 541,909 rows and 8 columns in the dataset.\n",
            "-----------------------------------------------------\n",
            "135,080 transactions don't have a customer id\n",
            "-----------------------------------------------------\n",
            "Transactions has been started from 2010-12-01 08:26:00 to 2011-12-09 12:50:00\n"
          ],
          "name": "stdout"
        }
      ]
    },
    {
      "cell_type": "markdown",
      "metadata": {
        "id": "1-0_ywUDCO5z",
        "colab_type": "text"
      },
      "source": [
        "Before we start **RFM Analysis** ,let us first prepare data by sorting the customer based on Recency,Frequency and Monetory values.Recency value will be calculated by taking one day after the last invoice date as a snapshot date.the difference between the dates will illustrates how recent the last transaction was made. After completing all following process, we can now group our ‘df’ dataframe by customer ID and assign it to a new data frame **‘data_analysis’** for our data pre-processing."
      ]
    },
    {
      "cell_type": "code",
      "metadata": {
        "id": "nMTML8OSAPZ_",
        "colab_type": "code",
        "outputId": "1ab5d909-58b0-4313-b18f-9c2a111bd482",
        "colab": {
          "base_uri": "https://localhost:8080/",
          "height": 34
        }
      },
      "source": [
        "# Group data by customerID--\n",
        "# Create TotalSum column for online dataset\n",
        "df['TotalSum'] = df['Quantity'] * df['UnitPrice']\n",
        "# Create snapshot date\n",
        "snapshot_date = df['InvoiceDate'].max() + timedelta(days=1)\n",
        "print(snapshot_date)\n",
        "# Grouping by CustomerID\n",
        "data_process = df.groupby(['CustomerID']).agg({\n",
        "        'InvoiceDate': lambda x: (snapshot_date - x.max()).days,\n",
        "        'InvoiceNo': 'count',\n",
        "        'TotalSum': 'sum'})\n",
        "# Rename the columns \n",
        "data_process.rename(columns={'InvoiceDate': 'Recency',\n",
        "                         'InvoiceNo': 'Frequency',\n",
        "                         'TotalSum': 'MonetaryValue'}, inplace=True)"
      ],
      "execution_count": 3,
      "outputs": [
        {
          "output_type": "stream",
          "text": [
            "2011-12-10 12:50:00\n"
          ],
          "name": "stdout"
        }
      ]
    },
    {
      "cell_type": "code",
      "metadata": {
        "id": "nNwpeuoAjX6W",
        "colab_type": "code",
        "outputId": "a797edf7-36b6-42e8-b9e2-40344c8dda14",
        "colab": {
          "base_uri": "https://localhost:8080/",
          "height": 153
        }
      },
      "source": [
        "# Print top 5 rows and shape of dataframe\n",
        "print(data_process.head())\n",
        "print('{:,} rows; {:,} columns'\n",
        "      .format(data_process.shape[0], data_process.shape[1]))"
      ],
      "execution_count": 4,
      "outputs": [
        {
          "output_type": "stream",
          "text": [
            "            Recency  Frequency  MonetaryValue\n",
            "CustomerID                                   \n",
            "12346.0         326          2           0.00\n",
            "12347.0           2        182        4310.00\n",
            "12348.0          75         31        1797.24\n",
            "12349.0          19         73        1757.55\n",
            "12350.0         310         17         334.40\n",
            "4,372 rows; 3 columns\n"
          ],
          "name": "stdout"
        }
      ]
    },
    {
      "cell_type": "code",
      "metadata": {
        "id": "oCxsaSunjfMp",
        "colab_type": "code",
        "outputId": "a07bd9f2-4fc2-455d-e15f-16cac58687ea",
        "colab": {
          "base_uri": "https://localhost:8080/",
          "height": 606
        }
      },
      "source": [
        "# Plot RFM distributions\n",
        "plt.figure(figsize=(12,10))\n",
        "# Plot distribution of R\n",
        "plt.subplot(3, 1, 1); sns.distplot(data_process['Recency'])\n",
        "# Plot distribution of F\n",
        "plt.subplot(3, 1, 2); sns.distplot(data_process['Frequency'])\n",
        "# Plot distribution of M\n",
        "plt.subplot(3, 1, 3); sns.distplot(data_process['MonetaryValue'])\n",
        "# Show the plot\n",
        "plt.show()"
      ],
      "execution_count": 5,
      "outputs": [
        {
          "output_type": "display_data",
          "data": {
            "image/png": "[encoded data removed]",
            "text/plain": [
              "<Figure size 864x720 with 3 Axes>"
            ]
          },
          "metadata": {
            "tags": []
          }
        }
      ]
    },
    {
      "cell_type": "code",
      "metadata": {
        "id": "nuaw6--oj5jT",
        "colab_type": "code",
        "outputId": "658400fc-8354-4ddc-858e-42997eb2b9b2",
        "colab": {
          "base_uri": "https://localhost:8080/",
          "height": 235
        }
      },
      "source": [
        "# --Calculate R and F groups--\n",
        "# Create labels for Recency and Frequency\n",
        "r_labels = range(4, 0, -1); f_labels = range(1, 5)\n",
        "# Assign these labels to 4 equal percentile groups \n",
        "r_groups = pd.qcut(data_process['Recency'], q=4, labels=r_labels)\n",
        "# Assign these labels to 4 equal percentile groups \n",
        "f_groups = pd.qcut(data_process['Frequency'], q=4, labels=f_labels)\n",
        "# Create new columns R and F \n",
        "data_process = data_process.assign(R = r_groups.values, F = f_groups.values)\n",
        "data_process.head()"
      ],
      "execution_count": 6,
      "outputs": [
        {
          "output_type": "execute_result",
          "data": {
            "text/html": [
              "<div>\n",
              "<style scoped>\n",
              "    .dataframe tbody tr th:only-of-type {\n",
              "        vertical-align: middle;\n",
              "    }\n",
              "\n",
              "    .dataframe tbody tr th {\n",
              "        vertical-align: top;\n",
              "    }\n",
              "\n",
              "    .dataframe thead th {\n",
              "        text-align: right;\n",
              "    }\n",
              "</style>\n",
              "<table border=\"1\" class=\"dataframe\">\n",
              "  <thead>\n",
              "    <tr style=\"text-align: right;\">\n",
              "      <th></th>\n",
              "      <th>Recency</th>\n",
              "      <th>Frequency</th>\n",
              "      <th>MonetaryValue</th>\n",
              "      <th>R</th>\n",
              "      <th>F</th>\n",
              "    </tr>\n",
              "    <tr>\n",
              "      <th>CustomerID</th>\n",
              "      <th></th>\n",
              "      <th></th>\n",
              "      <th></th>\n",
              "      <th></th>\n",
              "      <th></th>\n",
              "    </tr>\n",
              "  </thead>\n",
              "  <tbody>\n",
              "    <tr>\n",
              "      <th>12346.0</th>\n",
              "      <td>326</td>\n",
              "      <td>2</td>\n",
              "      <td>0.00</td>\n",
              "      <td>1</td>\n",
              "      <td>1</td>\n",
              "    </tr>\n",
              "    <tr>\n",
              "      <th>12347.0</th>\n",
              "      <td>2</td>\n",
              "      <td>182</td>\n",
              "      <td>4310.00</td>\n",
              "      <td>4</td>\n",
              "      <td>4</td>\n",
              "    </tr>\n",
              "    <tr>\n",
              "      <th>12348.0</th>\n",
              "      <td>75</td>\n",
              "      <td>31</td>\n",
              "      <td>1797.24</td>\n",
              "      <td>2</td>\n",
              "      <td>2</td>\n",
              "    </tr>\n",
              "    <tr>\n",
              "      <th>12349.0</th>\n",
              "      <td>19</td>\n",
              "      <td>73</td>\n",
              "      <td>1757.55</td>\n",
              "      <td>3</td>\n",
              "      <td>3</td>\n",
              "    </tr>\n",
              "    <tr>\n",
              "      <th>12350.0</th>\n",
              "      <td>310</td>\n",
              "      <td>17</td>\n",
              "      <td>334.40</td>\n",
              "      <td>1</td>\n",
              "      <td>1</td>\n",
              "    </tr>\n",
              "  </tbody>\n",
              "</table>\n",
              "</div>"
            ],
            "text/plain": [
              "            Recency  Frequency  MonetaryValue  R  F\n",
              "CustomerID                                         \n",
              "12346.0         326          2           0.00  1  1\n",
              "12347.0           2        182        4310.00  4  4\n",
              "12348.0          75         31        1797.24  2  2\n",
              "12349.0          19         73        1757.55  3  3\n",
              "12350.0         310         17         334.40  1  1"
            ]
          },
          "metadata": {
            "tags": []
          },
          "execution_count": 6
        }
      ]
    },
    {
      "cell_type": "code",
      "metadata": {
        "id": "X9QpNn9jkAir",
        "colab_type": "code",
        "colab": {}
      },
      "source": [
        "# Create labels for MonetaryValue\n",
        "m_labels = range(1, 5)\n",
        "# Assign these labels to three equal percentile groups \n",
        "m_groups = pd.qcut(data_process['MonetaryValue'], q=4, labels=m_labels)\n",
        "# Create new column M\n",
        "data_process = data_process.assign(M = m_groups.values)"
      ],
      "execution_count": 0,
      "outputs": []
    },
    {
      "cell_type": "code",
      "metadata": {
        "id": "YqpZQdEMkB-v",
        "colab_type": "code",
        "outputId": "7238457c-8dd3-49a3-9108-c57609a8c219",
        "colab": {
          "base_uri": "https://localhost:8080/",
          "height": 235
        }
      },
      "source": [
        "# Concat RFM quartile values to create RFM Segments\n",
        "def join_rfm(x): return str(x['R']) + str(x['F']) + str(x['M'])\n",
        "data_process['RFM_Segment_Concat'] = data_process.apply(join_rfm, axis=1)\n",
        "rfm = data_process\n",
        "rfm.head()"
      ],
      "execution_count": 8,
      "outputs": [
        {
          "output_type": "execute_result",
          "data": {
            "text/html": [
              "<div>\n",
              "<style scoped>\n",
              "    .dataframe tbody tr th:only-of-type {\n",
              "        vertical-align: middle;\n",
              "    }\n",
              "\n",
              "    .dataframe tbody tr th {\n",
              "        vertical-align: top;\n",
              "    }\n",
              "\n",
              "    .dataframe thead th {\n",
              "        text-align: right;\n",
              "    }\n",
              "</style>\n",
              "<table border=\"1\" class=\"dataframe\">\n",
              "  <thead>\n",
              "    <tr style=\"text-align: right;\">\n",
              "      <th></th>\n",
              "      <th>Recency</th>\n",
              "      <th>Frequency</th>\n",
              "      <th>MonetaryValue</th>\n",
              "      <th>R</th>\n",
              "      <th>F</th>\n",
              "      <th>M</th>\n",
              "      <th>RFM_Segment_Concat</th>\n",
              "    </tr>\n",
              "    <tr>\n",
              "      <th>CustomerID</th>\n",
              "      <th></th>\n",
              "      <th></th>\n",
              "      <th></th>\n",
              "      <th></th>\n",
              "      <th></th>\n",
              "      <th></th>\n",
              "      <th></th>\n",
              "    </tr>\n",
              "  </thead>\n",
              "  <tbody>\n",
              "    <tr>\n",
              "      <th>12346.0</th>\n",
              "      <td>326</td>\n",
              "      <td>2</td>\n",
              "      <td>0.00</td>\n",
              "      <td>1</td>\n",
              "      <td>1</td>\n",
              "      <td>1</td>\n",
              "      <td>111</td>\n",
              "    </tr>\n",
              "    <tr>\n",
              "      <th>12347.0</th>\n",
              "      <td>2</td>\n",
              "      <td>182</td>\n",
              "      <td>4310.00</td>\n",
              "      <td>4</td>\n",
              "      <td>4</td>\n",
              "      <td>4</td>\n",
              "      <td>444</td>\n",
              "    </tr>\n",
              "    <tr>\n",
              "      <th>12348.0</th>\n",
              "      <td>75</td>\n",
              "      <td>31</td>\n",
              "      <td>1797.24</td>\n",
              "      <td>2</td>\n",
              "      <td>2</td>\n",
              "      <td>4</td>\n",
              "      <td>224</td>\n",
              "    </tr>\n",
              "    <tr>\n",
              "      <th>12349.0</th>\n",
              "      <td>19</td>\n",
              "      <td>73</td>\n",
              "      <td>1757.55</td>\n",
              "      <td>3</td>\n",
              "      <td>3</td>\n",
              "      <td>4</td>\n",
              "      <td>334</td>\n",
              "    </tr>\n",
              "    <tr>\n",
              "      <th>12350.0</th>\n",
              "      <td>310</td>\n",
              "      <td>17</td>\n",
              "      <td>334.40</td>\n",
              "      <td>1</td>\n",
              "      <td>1</td>\n",
              "      <td>2</td>\n",
              "      <td>112</td>\n",
              "    </tr>\n",
              "  </tbody>\n",
              "</table>\n",
              "</div>"
            ],
            "text/plain": [
              "            Recency  Frequency  MonetaryValue  R  F  M RFM_Segment_Concat\n",
              "CustomerID                                                               \n",
              "12346.0         326          2           0.00  1  1  1                111\n",
              "12347.0           2        182        4310.00  4  4  4                444\n",
              "12348.0          75         31        1797.24  2  2  4                224\n",
              "12349.0          19         73        1757.55  3  3  4                334\n",
              "12350.0         310         17         334.40  1  1  2                112"
            ]
          },
          "metadata": {
            "tags": []
          },
          "execution_count": 8
        }
      ]
    },
    {
      "cell_type": "code",
      "metadata": {
        "id": "HImtOBCEkOpm",
        "colab_type": "code",
        "outputId": "05f109c4-8493-4101-d092-c01d38471b53",
        "colab": {
          "base_uri": "https://localhost:8080/",
          "height": 34
        }
      },
      "source": [
        "# Count num of unique segments\n",
        "rfm_count_unique = rfm.groupby('RFM_Segment_Concat')['RFM_Segment_Concat'].nunique()\n",
        "print(rfm_count_unique.sum())"
      ],
      "execution_count": 9,
      "outputs": [
        {
          "output_type": "stream",
          "text": [
            "62\n"
          ],
          "name": "stdout"
        }
      ]
    },
    {
      "cell_type": "code",
      "metadata": {
        "id": "Izve5qEakZQ0",
        "colab_type": "code",
        "outputId": "044b5ea5-cdc3-4ddb-96f7-a0b3d4b226e2",
        "colab": {
          "base_uri": "https://localhost:8080/",
          "height": 136
        }
      },
      "source": [
        "# Calculate RFM_Score\n",
        "rfm['RFM_Score'] = rfm[['R','F','M']].sum(axis=1)\n",
        "print(rfm['RFM_Score'].head())"
      ],
      "execution_count": 10,
      "outputs": [
        {
          "output_type": "stream",
          "text": [
            "CustomerID\n",
            "12346.0     3.0\n",
            "12347.0    12.0\n",
            "12348.0     8.0\n",
            "12349.0    10.0\n",
            "12350.0     4.0\n",
            "Name: RFM_Score, dtype: float64\n"
          ],
          "name": "stdout"
        }
      ]
    },
    {
      "cell_type": "code",
      "metadata": {
        "id": "0IZq2YatklZG",
        "colab_type": "code",
        "outputId": "e0dd17a7-12db-4353-b73d-435bd18ecb20",
        "colab": {
          "base_uri": "https://localhost:8080/",
          "height": 235
        }
      },
      "source": [
        "# Define rfm_level function\n",
        "def rfm_level(df):\n",
        "    if df['RFM_Score'] >= 9:\n",
        "        return 'Can\\'t Loose Them'\n",
        "    elif ((df['RFM_Score'] >= 8) and (df['RFM_Score'] < 9)):\n",
        "        return 'Champions'\n",
        "    elif ((df['RFM_Score'] >= 7) and (df['RFM_Score'] < 8)):\n",
        "        return 'Loyal'\n",
        "    elif ((df['RFM_Score'] >= 6) and (df['RFM_Score'] < 7)):\n",
        "        return 'Potential'\n",
        "    elif ((df['RFM_Score'] >= 5) and (df['RFM_Score'] < 6)):\n",
        "        return 'Promising'\n",
        "    elif ((df['RFM_Score'] >= 4) and (df['RFM_Score'] < 5)):\n",
        "        return 'Needs Attention'\n",
        "    else:\n",
        "        return 'Require Activation'\n",
        "# Create a new variable RFM_Level\n",
        "rfm['RFM_Level'] = rfm.apply(rfm_level, axis=1)\n",
        "# Print the header with top 5 rows to the console\n",
        "rfm.head()"
      ],
      "execution_count": 11,
      "outputs": [
        {
          "output_type": "execute_result",
          "data": {
            "text/html": [
              "<div>\n",
              "<style scoped>\n",
              "    .dataframe tbody tr th:only-of-type {\n",
              "        vertical-align: middle;\n",
              "    }\n",
              "\n",
              "    .dataframe tbody tr th {\n",
              "        vertical-align: top;\n",
              "    }\n",
              "\n",
              "    .dataframe thead th {\n",
              "        text-align: right;\n",
              "    }\n",
              "</style>\n",
              "<table border=\"1\" class=\"dataframe\">\n",
              "  <thead>\n",
              "    <tr style=\"text-align: right;\">\n",
              "      <th></th>\n",
              "      <th>Recency</th>\n",
              "      <th>Frequency</th>\n",
              "      <th>MonetaryValue</th>\n",
              "      <th>R</th>\n",
              "      <th>F</th>\n",
              "      <th>M</th>\n",
              "      <th>RFM_Segment_Concat</th>\n",
              "      <th>RFM_Score</th>\n",
              "      <th>RFM_Level</th>\n",
              "    </tr>\n",
              "    <tr>\n",
              "      <th>CustomerID</th>\n",
              "      <th></th>\n",
              "      <th></th>\n",
              "      <th></th>\n",
              "      <th></th>\n",
              "      <th></th>\n",
              "      <th></th>\n",
              "      <th></th>\n",
              "      <th></th>\n",
              "      <th></th>\n",
              "    </tr>\n",
              "  </thead>\n",
              "  <tbody>\n",
              "    <tr>\n",
              "      <th>12346.0</th>\n",
              "      <td>326</td>\n",
              "      <td>2</td>\n",
              "      <td>0.00</td>\n",
              "      <td>1</td>\n",
              "      <td>1</td>\n",
              "      <td>1</td>\n",
              "      <td>111</td>\n",
              "      <td>3.0</td>\n",
              "      <td>Require Activation</td>\n",
              "    </tr>\n",
              "    <tr>\n",
              "      <th>12347.0</th>\n",
              "      <td>2</td>\n",
              "      <td>182</td>\n",
              "      <td>4310.00</td>\n",
              "      <td>4</td>\n",
              "      <td>4</td>\n",
              "      <td>4</td>\n",
              "      <td>444</td>\n",
              "      <td>12.0</td>\n",
              "      <td>Can't Loose Them</td>\n",
              "    </tr>\n",
              "    <tr>\n",
              "      <th>12348.0</th>\n",
              "      <td>75</td>\n",
              "      <td>31</td>\n",
              "      <td>1797.24</td>\n",
              "      <td>2</td>\n",
              "      <td>2</td>\n",
              "      <td>4</td>\n",
              "      <td>224</td>\n",
              "      <td>8.0</td>\n",
              "      <td>Champions</td>\n",
              "    </tr>\n",
              "    <tr>\n",
              "      <th>12349.0</th>\n",
              "      <td>19</td>\n",
              "      <td>73</td>\n",
              "      <td>1757.55</td>\n",
              "      <td>3</td>\n",
              "      <td>3</td>\n",
              "      <td>4</td>\n",
              "      <td>334</td>\n",
              "      <td>10.0</td>\n",
              "      <td>Can't Loose Them</td>\n",
              "    </tr>\n",
              "    <tr>\n",
              "      <th>12350.0</th>\n",
              "      <td>310</td>\n",
              "      <td>17</td>\n",
              "      <td>334.40</td>\n",
              "      <td>1</td>\n",
              "      <td>1</td>\n",
              "      <td>2</td>\n",
              "      <td>112</td>\n",
              "      <td>4.0</td>\n",
              "      <td>Needs Attention</td>\n",
              "    </tr>\n",
              "  </tbody>\n",
              "</table>\n",
              "</div>"
            ],
            "text/plain": [
              "            Recency  Frequency  ...  RFM_Score           RFM_Level\n",
              "CustomerID                      ...                               \n",
              "12346.0         326          2  ...        3.0  Require Activation\n",
              "12347.0           2        182  ...       12.0    Can't Loose Them\n",
              "12348.0          75         31  ...        8.0           Champions\n",
              "12349.0          19         73  ...       10.0    Can't Loose Them\n",
              "12350.0         310         17  ...        4.0     Needs Attention\n",
              "\n",
              "[5 rows x 9 columns]"
            ]
          },
          "metadata": {
            "tags": []
          },
          "execution_count": 11
        }
      ]
    },
    {
      "cell_type": "code",
      "metadata": {
        "id": "R7qzMPynktXf",
        "colab_type": "code",
        "outputId": "705069e4-3431-4dbb-a91c-ee2ae7d6284d",
        "colab": {
          "base_uri": "https://localhost:8080/",
          "height": 170
        }
      },
      "source": [
        "# Calculate average values for each RFM_Level, and return a size of each segment \n",
        "rfm_level_agg = rfm.groupby('RFM_Level').agg({'Recency':{'RECENCY_MEAN': 'mean'},'Frequency': {'FRQUENCY_MEAN':'mean'},'MonetaryValue': {'MONETARY_MEAN': 'mean', 'MONETARY_COUNT': 'count'}}).round(1)\n",
        "rfm_level_agg.columns = rfm_level_agg.columns.droplevel(0)\n",
        "# Print the aggregated dataset\n",
        "print(rfm_level_agg)"
      ],
      "execution_count": 12,
      "outputs": [
        {
          "output_type": "stream",
          "text": [
            "                    RECENCY_MEAN  FRQUENCY_MEAN  MONETARY_MEAN  MONETARY_COUNT\n",
            "RFM_Level                                                                     \n",
            "Can't Loose Them            25.2          195.1         4130.3            1690\n",
            "Champions                   62.7           57.0          974.7             467\n",
            "Loyal                       78.8           39.7          724.2             447\n",
            "Needs Attention            174.5           13.9          227.1             391\n",
            "Potential                   94.3           28.5          491.8             468\n",
            "Promising                  153.0           21.2          346.8             517\n",
            "Require Activation         264.8            7.8          109.1             392\n"
          ],
          "name": "stdout"
        }
      ]
    },
    {
      "cell_type": "code",
      "metadata": {
        "id": "A_ndp5_Ak3Ge",
        "colab_type": "code",
        "outputId": "e5008fa4-2c2f-452d-a2c5-85bf748a87ab",
        "colab": {
          "base_uri": "https://localhost:8080/",
          "height": 540
        }
      },
      "source": [
        "#Create our plot and resize it.\n",
        "fig = plt.gcf()\n",
        "ax = fig.add_subplot()\n",
        "fig.set_size_inches(16, 9)\n",
        "squarify.plot(sizes=rfm_level_agg['MONETARY_COUNT'], \n",
        "              label=['Can\\'t Loose Them',\n",
        "                     'Champions',\n",
        "                     'Loyal',\n",
        "                     'Needs Attention',\n",
        "                     'Potential', \n",
        "                     'Promising', \n",
        "                     'Require Activation'], alpha=.6 )\n",
        "plt.title(\"RFM Segments\",fontsize=18,fontweight=\"bold\")\n",
        "plt.axis('off')\n",
        "plt.show()\n"
      ],
      "execution_count": 13,
      "outputs": [
        {
          "output_type": "display_data",
          "data": {
            "image/png": "[encoded data removed]",
            "text/plain": [
              "<Figure size 1152x648 with 1 Axes>"
            ]
          },
          "metadata": {
            "tags": []
          }
        }
      ]
    }
  ]
}