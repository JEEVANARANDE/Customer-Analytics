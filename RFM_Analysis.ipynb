{
  "nbformat": 4,
  "nbformat_minor": 0,
  "metadata": {
    "colab": {
      "name": "RFM Analysis.ipynb",
      "provenance": []
    },
    "kernelspec": {
      "name": "python3",
      "display_name": "Python 3"
    }
  },
  "cells": [
    {
      "cell_type": "markdown",
      "metadata": {
        "id": "OR7ZaEEevrMa",
        "colab_type": "text"
      },
      "source": [
        "**RFM Segmentation** is a great method to divide\n",
        "Customers into equal groups depending on three criteria:\n",
        "\n",
        "**Recency**:- How much time has elapsed since a customer’s last activity or transaction with the company?\n",
        "\n",
        "**Frequency**:- How often has a customer transacted with the company during a particular period of time?\n",
        "\n",
        "**Monetary**:- How much a customer has spent with the brand during a particular period of time?\n"
      ]
    },
    {
      "cell_type": "code",
      "metadata": {
        "id": "dD613G6brGVl",
        "colab_type": "code",
        "colab": {}
      },
      "source": [
        "# Import libraries\n",
        "import pandas as pd\n",
        "from datetime import timedelta\n",
        "import matplotlib.pyplot as plt\n",
        "#import squarify\n",
        "# Read dataset\n",
        "df = pd.read_csv('data.csv', encoding = \"ISO-8859-1\")\n",
        "# Convert InvoiceDate from object to datetime format\n",
        "df['InvoiceDate'] = pd.to_datetime(df['InvoiceDate'])\n"
      ],
      "execution_count": 0,
      "outputs": []
    },
    {
      "cell_type": "code",
      "metadata": {
        "id": "DE1UXEEKvBcu",
        "colab_type": "code",
        "outputId": "69c26745-1cde-4c57-a6da-331235d1cd8a",
        "colab": {
          "base_uri": "https://localhost:8080/",
          "height": 799
        }
      },
      "source": [
        "print('First five rows in the dataset:-')\n",
        "print(df.head())\n",
        "print('Last five rows in the dataset:-')\n",
        "print(df.tail())\n",
        "print(df.info())\n",
        "print(df.describe())\n",
        "print('There are {:,} rows and {:,} columns in the dataset.'\n",
        "      .format(df.shape[0], df.shape[1]))\n",
        "print('-----------------------------------------------------')\n",
        "print('{:,} transactions don\\'t have a customer id'\n",
        "      .format(df[df.CustomerID.isnull()].shape[0]))\n",
        "print('-----------------------------------------------------')\n",
        "print('Transactions has been started from {} to {}'.format(df['InvoiceDate'].min(),\n",
        "                                    df['InvoiceDate'].max()))"
      ],
      "execution_count": 17,
      "outputs": [
        {
          "output_type": "stream",
          "text": [
            "First five rows in the dataset:-\n",
            "  InvoiceNo StockCode  ... CustomerID         Country\n",
            "0    536365    85123A  ...    17850.0  United Kingdom\n",
            "1    536365     71053  ...    17850.0  United Kingdom\n",
            "2    536365    84406B  ...    17850.0  United Kingdom\n",
            "3    536365    84029G  ...    17850.0  United Kingdom\n",
            "4    536365    84029E  ...    17850.0  United Kingdom\n",
            "\n",
            "[5 rows x 8 columns]\n",
            "Last five rows in the dataset:-\n",
            "       InvoiceNo StockCode  ... CustomerID         Country\n",
            "437455    574292     21430  ...    16914.0  United Kingdom\n",
            "437456    574292     21623  ...    16914.0  United Kingdom\n",
            "437457    574292     21624  ...    16914.0  United Kingdom\n",
            "437458    574292     23438  ...    16914.0  United Kingdom\n",
            "437459    574292     20751  ...        NaN             NaN\n",
            "\n",
            "[5 rows x 8 columns]\n",
            "<class 'pandas.core.frame.DataFrame'>\n",
            "RangeIndex: 437460 entries, 0 to 437459\n",
            "Data columns (total 8 columns):\n",
            "InvoiceNo      437460 non-null object\n",
            "StockCode      437460 non-null object\n",
            "Description    436092 non-null object\n",
            "Quantity       437459 non-null float64\n",
            "InvoiceDate    437459 non-null datetime64[ns]\n",
            "UnitPrice      437459 non-null float64\n",
            "CustomerID     328486 non-null float64\n",
            "Country        437459 non-null object\n",
            "dtypes: datetime64[ns](1), float64(3), object(4)\n",
            "memory usage: 26.7+ MB\n",
            "None\n",
            "            Quantity      UnitPrice     CustomerID\n",
            "count  437459.000000  437459.000000  328486.000000\n",
            "mean        9.769526       4.700909   15277.285467\n",
            "std       168.244408     100.745469    1711.937735\n",
            "min    -74215.000000  -11062.060000   12346.000000\n",
            "25%         1.000000       1.250000   13904.000000\n",
            "50%         3.000000       2.100000   15144.000000\n",
            "75%        11.000000       4.130000   16776.000000\n",
            "max     74215.000000   38970.000000   18287.000000\n",
            "There are 437,460 rows and 8 columns in the dataset.\n",
            "-----------------------------------------------------\n",
            "108,974 transactions don't have a customer id\n",
            "-----------------------------------------------------\n",
            "Transactions has been started from 2010-12-01 08:26:00 to 2011-11-03 15:27:00\n"
          ],
          "name": "stdout"
        }
      ]
    }
  ]
}